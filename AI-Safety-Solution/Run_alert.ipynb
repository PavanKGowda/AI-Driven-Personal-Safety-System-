{
 "cells": [
  {
   "cell_type": "code",
   "execution_count": 7,
   "id": "73817753-ac4a-4bde-8e5d-d930089768b3",
   "metadata": {},
   "outputs": [],
   "source": [
    "import speech_recognition as sr\n",
    "import tempfile\n",
    "import os\n",
    "import time\n",
    "from datetime import datetime\n",
    "from ai_safety_system.keyword_detection import EMERGENCY_KEYWORDS\n",
    "from ai_safety_system.scream_detection import predict\n",
    "from ai_safety_system.alert_sender import send_email_alert\n",
    "import sys\n",
    "import io\n",
    "if hasattr(sys.stdout, 'buffer'):\n",
    "    sys.stdout = io.TextIOWrapper(sys.stdout.buffer, encoding='utf-8')\n"
   ]
  },
  {
   "cell_type": "code",
   "execution_count": 8,
   "id": "6e13b5f1-bafd-4943-8a58-88f1ac1d2820",
   "metadata": {},
   "outputs": [],
   "source": [
    "BASE_FOLDER = \"saved_audio\"\n",
    "os.makedirs(BASE_FOLDER, exist_ok=True)\n"
   ]
  },
  {
   "cell_type": "code",
   "execution_count": 9,
   "id": "31046712-9d94-4c86-8815-915965e8afda",
   "metadata": {},
   "outputs": [],
   "source": [
    "def get_datetime():\n",
    "    now = datetime.now()\n",
    "    return now.strftime(\"%Y-%m-%d\"), now.strftime(\"%H-%M-%S\")"
   ]
  },
  {
   "cell_type": "code",
   "execution_count": 10,
   "id": "0582a231-d993-4437-840e-4095e2ec01e5",
   "metadata": {},
   "outputs": [],
   "source": [
    "def recognize_keywords_from_audio(audio_data):\n",
    "    recognizer = sr.Recognizer()\n",
    "    try:\n",
    "        text = recognizer.recognize_google(audio_data)\n",
    "        print(f\"🗣️ Detected Speech: '{text}'\")\n",
    "        for keyword in EMERGENCY_KEYWORDS:\n",
    "            if keyword.lower() in text.lower():\n",
    "                print(f\"🔑 Emergency keyword detected: '{keyword}'\")\n",
    "                return True\n",
    "        return False\n",
    "    except sr.UnknownValueError:\n",
    "        print(\"⚠️ Could not understand audio.\")\n",
    "    except sr.RequestError as e:\n",
    "        print(f\"🔌 API error: {e}\")\n",
    "    return False"
   ]
  },
  {
   "cell_type": "code",
   "execution_count": 11,
   "id": "8993f357-05af-40e8-bccc-d0b7e1f9961f",
   "metadata": {},
   "outputs": [],
   "source": [
    "def start_alerter():\n",
    "    print(\"\\n✅ Alerter Activated! Listening in real-time...\")\n",
    "    recognizer = sr.Recognizer()\n",
    "    mic = sr.Microphone()\n",
    "\n",
    "    with mic as source:\n",
    "        recognizer.adjust_for_ambient_noise(source)\n",
    "        while True:\n",
    "            try:\n",
    "                print(\"🎤 Listening...\")\n",
    "                audio = recognizer.listen(source, timeout=5, phrase_time_limit=5)\n",
    "\n",
    "                # Step 1: Keyword detection\n",
    "                keyword_detected = recognize_keywords_from_audio(audio)\n",
    "\n",
    "                # Step 2: Save audio temporarily for scream detection\n",
    "                with tempfile.NamedTemporaryFile(delete=False, suffix=\".wav\") as temp_audio:\n",
    "                    temp_audio_path = temp_audio.name\n",
    "                    with open(temp_audio_path, \"wb\") as f:\n",
    "                        f.write(audio.get_wav_data())\n",
    "\n",
    "                # Step 3: Scream detection\n",
    "                scream_detected = predict(temp_audio_path)\n",
    "\n",
    "                # Step 4: Save only if alert\n",
    "                if keyword_detected or scream_detected:\n",
    "                    print(\"\\n🚨 EMERGENCY TRIGGERED!\")\n",
    "                    if keyword_detected:\n",
    "                        print(\"🔑 Reason: Keyword\")\n",
    "                    if scream_detected:\n",
    "                        print(\"📢 Reason: Scream\")\n",
    "\n",
    "                    # Create folder based on date\n",
    "                    date_str, time_str = get_datetime()\n",
    "                    date_folder = os.path.join(BASE_FOLDER, date_str)\n",
    "                    os.makedirs(date_folder, exist_ok=True)\n",
    "\n",
    "                    # Save alert clip\n",
    "                    filename = os.path.join(date_folder, f\"{time_str}.wav\")\n",
    "                    os.rename(temp_audio_path, filename)\n",
    "                    print(f\"💾 Alert clip saved: {filename}\")\n",
    "                    print(\"Sending Emergency Alert\")\n",
    "                    time.sleep(3)\n",
    "                else:\n",
    "                    os.remove(temp_audio_path)  # Clean up if no alert\n",
    "                    print(\"✅ No emergency.\\n\")\n",
    "\n",
    "            except KeyboardInterrupt:\n",
    "                print(\"\\n🛑 Alerter deactivated by user.\")\n",
    "                break\n",
    "            except Exception as e:\n",
    "                print(f\"❌ Error: {e}\")\n",
    "                continue"
   ]
  },
  {
   "cell_type": "code",
   "execution_count": 12,
   "id": "1f2acf42-d765-4805-91d3-3297eaa322bc",
   "metadata": {},
   "outputs": [
    {
     "name": "stdout",
     "output_type": "stream",
     "text": [
      "\n",
      "✅ Alerter Activated! Listening in real-time...\n",
      "🎤 Listening...\n",
      "⚠️ Could not understand audio.\n",
      "❌ Error extracting MFCC: partially initialized module 'numba' has no attribute 'core' (most likely due to a circular import)\n",
      "⚠️ Could not extract features.\n",
      "✅ No emergency.\n",
      "\n",
      "🎤 Listening...\n",
      "🗣️ Detected Speech: 'file Kaise'\n",
      "❌ Error extracting MFCC: module 'numba' has no attribute 'core'\n",
      "⚠️ Could not extract features.\n",
      "✅ No emergency.\n",
      "\n",
      "🎤 Listening...\n",
      "⚠️ Could not understand audio.\n",
      "❌ Error extracting MFCC: module 'numba' has no attribute 'core'\n",
      "⚠️ Could not extract features.\n",
      "✅ No emergency.\n",
      "\n",
      "🎤 Listening...\n",
      "⚠️ Could not understand audio.\n",
      "❌ Error extracting MFCC: module 'numba' has no attribute 'core'\n",
      "⚠️ Could not extract features.\n",
      "✅ No emergency.\n",
      "\n",
      "🎤 Listening...\n",
      "🗣️ Detected Speech: 'hello'\n",
      "❌ Error extracting MFCC: module 'numba' has no attribute 'core'\n",
      "⚠️ Could not extract features.\n",
      "✅ No emergency.\n",
      "\n",
      "🎤 Listening...\n",
      "⚠️ Could not understand audio.\n",
      "❌ Error extracting MFCC: module 'numba' has no attribute 'core'\n",
      "⚠️ Could not extract features.\n",
      "✅ No emergency.\n",
      "\n",
      "🎤 Listening...\n",
      "\n",
      "🛑 Alerter deactivated by user.\n"
     ]
    }
   ],
   "source": [
    "if __name__ == \"__main__\":\n",
    "    input(\"🔘 Press Enter to activate the ALERTER (or Ctrl+C to cancel)...\")\n",
    "    start_alerter()"
   ]
  },
  {
   "cell_type": "code",
   "execution_count": null,
   "id": "4e0d322a-fa4e-4753-b70f-b99fa0972f01",
   "metadata": {},
   "outputs": [],
   "source": []
  }
 ],
 "metadata": {
  "kernelspec": {
   "display_name": "Python 3",
   "language": "python",
   "name": "python3"
  },
  "language_info": {
   "codemirror_mode": {
    "name": "ipython",
    "version": 3
   },
   "file_extension": ".py",
   "mimetype": "text/x-python",
   "name": "python",
   "nbconvert_exporter": "python",
   "pygments_lexer": "ipython3",
   "version": "3.11.0"
  }
 },
 "nbformat": 4,
 "nbformat_minor": 5
}
